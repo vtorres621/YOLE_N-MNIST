{
 "metadata": {
  "language_info": {
   "codemirror_mode": {
    "name": "ipython",
    "version": 3
   },
   "file_extension": ".py",
   "mimetype": "text/x-python",
   "name": "python",
   "nbconvert_exporter": "python",
   "pygments_lexer": "ipython3",
   "version": "3.8.5-final"
  },
  "orig_nbformat": 2,
  "kernelspec": {
   "name": "python38232bitc93d2106b2e947148ed8aafc73d5390a",
   "display_name": "Python 3.8.2 32-bit"
  }
 },
 "nbformat": 4,
 "nbformat_minor": 2,
 "cells": [
  {
   "cell_type": "code",
   "execution_count": 1,
   "metadata": {},
   "outputs": [],
   "source": [
    "import numpy as np\n",
    "import cv2\n",
    "from PIL import Image, ImageDraw, ImageFilter\n",
    "import matplotlib.pyplot as plt\n",
    "import matplotlib.patches as patches\n",
    "import os\n",
    "import csv"
   ]
  },
  {
   "cell_type": "code",
   "execution_count": 6,
   "metadata": {},
   "outputs": [],
   "source": [
    "#Create and import black image\n",
    "black_image = np.zeros((128,128))\n",
    "cv2.imwrite('black.png', black_image)\n",
    "im1 = Image.open('black.png')\n"
   ]
  },
  {
   "cell_type": "code",
   "execution_count": 7,
   "metadata": {},
   "outputs": [],
   "source": [
    "partitions = [\"train\",\"test\"]\n",
    "classes = [\"0\", \"1\", \"2\", \"3\", \"4\", \"5\", \"6\", \"7\", \"8\", \"9\"]\n",
    "#Loop through partition\n",
    "for part in partitions:\n",
    "\n",
    "    #Loop through folder of each class\n",
    "    for c in classes:\n",
    "\n",
    "        path =\"N-MNIST_leaky/\"+str(part)+\"/\"+str(c)+\"/\"\n",
    "        path, dirs, images = next(os.walk(path))\n",
    "\n",
    "        #Loop through images in folder\n",
    "        for img in images:\n",
    "            fileName = path + str(img)\n",
    "\n",
    "            #Copy gray image\n",
    "            back_im = im1.copy()\n",
    "            \n",
    "            #Generate random shift\n",
    "            x1_shift = np.random.randint(0,95)\n",
    "            y1_shift = np.random.randint(0,95)\n",
    "\n",
    "            #Open mnist image\n",
    "            im2 = Image.open(fileName)\n",
    "\n",
    "            #Paste into gray image\n",
    "            back_im.paste(im2, (x1_shift,y1_shift))\n",
    "\n",
    "            #Save image\n",
    "            name = img.split(\".\")\n",
    "            back_im.save(\"N-MNIST_leaky_shifted/\"+str(part)+\"/\"+str(name[0])+\".png\")\n",
    "\n",
    "\n",
    "            #Open new file and write annotations\n",
    "            with open(\"N-MNIST_leaky_shifted/\"+str(part)+\"/mnist.csv\",\"a\", newline ='') as t:\n",
    "                csv_writer = csv.writer(t)\n",
    "                csv_writer.writerow([str(name[0])+\".png\",                        \n",
    "                                        str(x1_shift),      #Top Left   \n",
    "                                        str(y1_shift),      \n",
    "                                        str(x1_shift+34),   #Bot Right\n",
    "                                        str(y1_shift+34),\n",
    "                                        str(c) ])           #Class\n",
    "# fig,ax = plt.subplots(1)\n",
    "# plt.imshow(back_im)\n",
    "# plt.show\n"
   ]
  },
  {
   "cell_type": "code",
   "execution_count": null,
   "metadata": {},
   "outputs": [],
   "source": []
  }
 ]
}