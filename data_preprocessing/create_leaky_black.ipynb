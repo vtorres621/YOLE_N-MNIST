{
 "metadata": {
  "language_info": {
   "codemirror_mode": {
    "name": "ipython",
    "version": 3
   },
   "file_extension": ".py",
   "mimetype": "text/x-python",
   "name": "python",
   "nbconvert_exporter": "python",
   "pygments_lexer": "ipython3",
   "version": "2.7.18-final"
  },
  "orig_nbformat": 2,
  "kernelspec": {
   "name": "python3",
   "display_name": "Python 2.7.18 64-bit (conda)",
   "metadata": {
    "interpreter": {
     "hash": "8f60b05843e2bd9b00577f339ce67a8e2e145d62e44144042e91ef6871c9392b"
    }
   }
  }
 },
 "nbformat": 4,
 "nbformat_minor": 2,
 "cells": [
  {
   "cell_type": "code",
   "execution_count": 1,
   "metadata": {},
   "outputs": [],
   "source": [
    "import numpy as np\n",
    "import csv\n",
    "import os\n",
    "import cv2"
   ]
  },
  {
   "cell_type": "code",
   "execution_count": 2,
   "metadata": {
    "tags": []
   },
   "outputs": [],
   "source": [
    "partitions = [\"train\",\"test\"]\n",
    "classes = [\"0\", \"1\", \"2\", \"3\", \"4\", \"5\", \"6\", \"7\", \"8\", \"9\"]\n",
    "\n",
    "#Loop through partition\n",
    "for part in partitions:\n",
    "\n",
    "    #Loop through folder of each class\n",
    "    for c in classes:\n",
    "\n",
    "        path =\"N-MNIST_csv_lim/\"+str(part)+\"/\"+str(c)+\"/\"\n",
    "        path, dirs, images = next(os.walk(path))\n",
    "\n",
    "        #Loop through images in folder\n",
    "        for img in images:\n",
    "            fileName = path + str(img)\n",
    "\n",
    "            #Initialize\n",
    "            ts = 50000\n",
    "            x = []\n",
    "            y = []\n",
    "            p = []\n",
    "            t = []\n",
    "\n",
    "            #Open CSV and transfer data into arrays\n",
    "            with open(fileName) as csv_file:\n",
    "                csv_reader = csv.reader(csv_file, delimiter=',')\n",
    "                for row in csv_reader:\n",
    "                    if int(row[3]) < ts:\n",
    "                        x.append(int(row[0]))\n",
    "                        y.append(int(row[1]))\n",
    "                        t.append(int(row[3]))\n",
    "\n",
    "                        if row[2] == \"True\":\n",
    "                            p.append(1)\n",
    "                        elif row[2] == \"False\":\n",
    "                            p.append(0)\n",
    "\n",
    "            #Create \"gray\" image\n",
    "            image = np.zeros((34,34))\n",
    "            delta_incr = 255\n",
    "            lam = 0.01\n",
    "\n",
    "            #Increase or decrease pixels\n",
    "            for i in range(len(x)):\n",
    "                if i > 0:\n",
    "                    delta_ts = t[i]-t[i-1]\n",
    "                else:\n",
    "                    delta_ts = 0\n",
    "                for row in range(image.shape[0]):\n",
    "                    for col in range(image.shape[1]): \n",
    "                        image[row][col] = max(image[row][col]-lam*delta_ts,0)\n",
    "                        if row == y[i] and col == x[i]:\n",
    "                            if p[i] == 1:\n",
    "                                image[y[i]][x[i]] += delta_incr\n",
    "\n",
    "\n",
    "            #Create png image\n",
    "            name = img.split(\".\")\n",
    "            cv2.imwrite(\"N-MNIST_leaky2/\"+str(part)+\"/\"+str(c)+\"/\"+str(name[0])+\".png\", image)     \n",
    "\n",
    "        #Show Image   \n",
    "        # cv2.imshow(\"Example\", image/255)\n",
    "        # cv2.waitKey(0)"
   ]
  },
  {
   "cell_type": "code",
   "execution_count": null,
   "metadata": {},
   "outputs": [],
   "source": []
  }
 ]
}